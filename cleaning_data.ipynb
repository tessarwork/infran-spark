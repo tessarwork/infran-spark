{
 "cells": [
  {
   "cell_type": "code",
   "execution_count": 1,
   "metadata": {},
   "outputs": [],
   "source": [
    "import pandas as pd\n",
    "\n",
    "# Define the path to the large CSV file\n",
    "file_path = 'output_with_vertical_similarity_fulllfw.csv'\n",
    "output_path = 'cleaned_output_full.csv'\n",
    "\n",
    "# Define the chunk size (number of rows to process at a time)\n",
    "chunksize = 10**6  # Adjust the chunk size based on your system's memory capacity\n",
    "\n",
    "# Initialize a list to hold cleaned chunks\n",
    "cleaned_chunks = []\n",
    "\n",
    "# Define a set to keep track of seen pairs\n",
    "seen_pairs = set()"
   ]
  },
  {
   "cell_type": "code",
   "execution_count": 2,
   "metadata": {},
   "outputs": [],
   "source": [
    "# Process the file in chunks\n",
    "for chunk in pd.read_csv(file_path, chunksize=chunksize):\n",
    "    # Sort the file names alphabetically within each comparison pair in the chunk\n",
    "    chunk['sorted_pair'] = chunk.apply(lambda row: tuple(sorted([row['File Name'], row['Compared To']])), axis=1)\n",
    "    \n",
    "    # Remove duplicate pairs within this chunk\n",
    "    chunk_cleaned = chunk.drop_duplicates(subset=['sorted_pair'])\n",
    "\n",
    "    # Filter out pairs that have already been seen in previous chunks\n",
    "    chunk_cleaned = chunk_cleaned[~chunk_cleaned['sorted_pair'].isin(seen_pairs)]\n",
    "\n",
    "    # Update the set of seen pairs\n",
    "    seen_pairs.update(chunk_cleaned['sorted_pair'])\n",
    "\n",
    "    # Drop the helper column\n",
    "    chunk_cleaned = chunk_cleaned.drop(columns=['sorted_pair'])\n",
    "\n",
    "    # Append the cleaned chunk to the list\n",
    "    cleaned_chunks.append(chunk_cleaned)\n",
    "\n",
    "# Concatenate all the cleaned chunks into a single DataFrame\n",
    "final_cleaned_data = pd.concat(cleaned_chunks, ignore_index=True)\n",
    "\n",
    "# Save the cleaned data to a new CSV file\n",
    "final_cleaned_data.to_csv(output_path, index=False)\n",
    "\n",
    "# Output the path where the cleaned data is saved\n",
    "print(f\"Cleaned data saved to: {output_path}\")"
   ]
  }
 ],
 "metadata": {
  "kernelspec": {
   "display_name": ".env",
   "language": "python",
   "name": "python3"
  },
  "language_info": {
   "codemirror_mode": {
    "name": "ipython",
    "version": 3
   },
   "file_extension": ".py",
   "mimetype": "text/x-python",
   "name": "python",
   "nbconvert_exporter": "python",
   "pygments_lexer": "ipython3",
   "version": "3.12.3"
  }
 },
 "nbformat": 4,
 "nbformat_minor": 2
}
