{
 "cells": [
  {
   "cell_type": "code",
   "execution_count": 1,
   "metadata": {},
   "outputs": [],
   "source": [
    "import os\n",
    "import shutil\n"
   ]
  },
  {
   "cell_type": "code",
   "execution_count": 2,
   "metadata": {},
   "outputs": [],
   "source": [
    "dataset_path = \"AgeDB\"\n",
    "dataset_output = \"AgeDB/imgs\""
   ]
  },
  {
   "cell_type": "code",
   "execution_count": 3,
   "metadata": {},
   "outputs": [],
   "source": [
    "if not os.path.exists(dataset_output): \n",
    "    os.makedirs(dataset_output)\n",
    "\n",
    "for image_name in os.listdir(dataset_path):\n",
    "    if image_name.endswith(('.jpg', '.jpeg', '.png')):  # Modify this based on the image formats\n",
    "        # Example: Assuming the class is part of the filename like 'class1_img1.jpg'\n",
    "        # Modify the following line according to your naming convention\n",
    "        label = image_name.split('_')[1]  # Adjust the split or regex according to your pattern\n",
    "        # print(label)\n",
    "\n",
    "        label_folder = os.path.join(dataset_output, label)\n",
    "        if not os.path.exists(label_folder):\n",
    "              \n",
    "             os.makedirs(label_folder)\n",
    "        source_path = os.path.join(dataset_path, image_name)\n",
    "        destination_path = os.path.join(label_folder, image_name)\n",
    "        shutil.move(source_path, destination_path)\n",
    "    "
   ]
  },
  {
   "cell_type": "code",
   "execution_count": null,
   "metadata": {},
   "outputs": [],
   "source": []
  },
  {
   "cell_type": "code",
   "execution_count": 4,
   "metadata": {},
   "outputs": [
    {
     "ename": "SyntaxError",
     "evalue": "invalid syntax (3118400652.py, line 1)",
     "output_type": "error",
     "traceback": [
      "\u001b[0;36m  Cell \u001b[0;32mIn[4], line 1\u001b[0;36m\u001b[0m\n\u001b[0;31m    source_path =\u001b[0m\n\u001b[0m                  ^\u001b[0m\n\u001b[0;31mSyntaxError\u001b[0m\u001b[0;31m:\u001b[0m invalid syntax\n"
     ]
    }
   ],
   "source": [
    "source_path = "
   ]
  }
 ],
 "metadata": {
  "kernelspec": {
   "display_name": ".venv",
   "language": "python",
   "name": "python3"
  },
  "language_info": {
   "codemirror_mode": {
    "name": "ipython",
    "version": 3
   },
   "file_extension": ".py",
   "mimetype": "text/x-python",
   "name": "python",
   "nbconvert_exporter": "python",
   "pygments_lexer": "ipython3",
   "version": "3.12.3"
  }
 },
 "nbformat": 4,
 "nbformat_minor": 2
}
